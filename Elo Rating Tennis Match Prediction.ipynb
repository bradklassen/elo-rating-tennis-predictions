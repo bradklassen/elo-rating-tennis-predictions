{
 "cells": [
  {
   "cell_type": "markdown",
   "metadata": {},
   "source": [
    "# Elo Rating Tennis Match Prediction\n",
    "\n",
    "This project uses Elo ratings to predict the outcome of tennis matches."
   ]
  },
  {
   "cell_type": "markdown",
   "metadata": {},
   "source": [
    "## Table of Contents\n",
    "\n",
    "1. [Introduction](#1)\n",
    "2. [Data Manipulation](#2)\n",
    "3. [Elo Ratings](#3)\n",
    "    1. [Initial Elo Ratings](#4)\n",
    "4. [Game Differential](#5)\n",
    "5. [Win Margin Multiplier](#6)\n",
    "    1. [Natural Logarithm Multiplier](#7)\n",
    "        1. [Optimal Denominator](#8)\n",
    "    2. [Nearly Linear Multiplier](#9)\n",
    "        1. [Optimal Denominator](#10)\n",
    "6. [Functions for Elo Rating](#11)\n",
    "    1. [Probability of Winning](#12)\n",
    "    2. [Update Elo Rating](#13)\n",
    "    3. [Win Multiplier](#14)\n",
    "    4. [K-Factor](#15)\n",
    "    5. [Calculate Elo Rating](#16)\n",
    "7. [Evaluate Prediction Accuracy](#17)\n",
    "8. [Cross-Validation](#18)\n",
    "9. [Fill in Missing Ratings](#19)\n",
    "10. [Tune Win Multiplier](#20)\n",
    "11. [Optimal Win Multiplier](#21)\n",
    "12. [Make Predictions](#22)\n",
    "13. [Future Applications](#23)\n",
    "    1. [Time Series Approach](#24)\n",
    "    2. [Percentage of Games Won](#25)\n",
    "    3. [TrueSkill Ranking](#26)\n",
    "    4. [Glicko Rating](#27)\n",
    "15. [References](#28)"
   ]
  },
  {
   "cell_type": "markdown",
   "metadata": {},
   "source": [
    "<a id=\"1\"></a> <br>\n",
    "## Introduction\n",
    "\n",
    "The goal of the project is to accurately predict upcoming tennis matches. The data consists of 2019 singles tennis results split randomly (~70% for training, ~30% for testing). Elo ratings are used to evaluate the strength and ranking of each player which is then used to predict the probability that player 1 will win the matches in the testing data. A win margin multplier has been added to the Elo rating functions to account for the difference in the number of games won by each player. Multiple win multipliers were tested using cross-validation and hyperparameter tuning. Using k-fold cross-validation, the original 70% training data is split further into training and testing folds while the original 30% testing data is used as the evaluation data. The optimal win multiplier uses a natural logarithm function and was used to get the probability of player 1 winning in the evaluation data."
   ]
  },
  {
   "cell_type": "markdown",
   "metadata": {},
   "source": [
    "<a id=\"2\"></a> <br>\n",
    "## Data Manipulation\n",
    "\n",
    "Prior to beginning our analysis we have to do some basic data manipulation. A new column is created to calculate the number of games that the winner won, and the number of games that the loser won. This will be used to calculate the difference in games won in the match, which will later be used in our calculation of Elo ratings. For simplicity, we do not need to worry about the number of games won in each set. We can use the total number of games won by each player for our Elo rating calculations."
   ]
  },
  {
   "cell_type": "code",
   "execution_count": 1,
   "metadata": {},
   "outputs": [],
   "source": [
    "import pandas as pd\n",
    "import matplotlib.pyplot as plt\n",
    "import numpy as np\n",
    "from collections import Counter\n",
    "import math\n",
    "from sklearn.model_selection import train_test_split\n",
    "\n",
    "# Sets path where data is stored\n",
    "data_path = '/Users/bradklassen/GitHub/elo-rating-tennis-predictions/'\n",
    "\n",
    "# Read in training data and evaluation data\n",
    "data = pd.read_csv(f'{data_path}training_data.csv')\n",
    "evaluation_data = pd.read_csv(f'{data_path}testing_data.csv')\n",
    "\n",
    "\n",
    "def game_differential(df):\n",
    "    \"\"\"\n",
    "    Add four new columns.\n",
    "     \"winner_games\" - Number of games won in entire match for winner.\n",
    "     \"loser_games\" - Number of games won in entire match for loser.\n",
    "     \"total_games\" - Total games played in the match.\n",
    "     \"game_differential\" - Difference in games won between the winner and loser.\n",
    "\n",
    "        Parameters:\n",
    "            df (pd.DataFrame): Original data set.\n",
    "\n",
    "        Returns:\n",
    "            df (pd.DataFrame): Data set with added columns.\n",
    "    \"\"\"\n",
    "\n",
    "    # Calculate number of games won in entire match for winner\n",
    "    df['winner_games'] = df['winner_set_1'] + df['winner_set_2'] + df['winner_set_3'] + df['winner_set_4'] + \\\n",
    "                         df['winner_set_5']\n",
    "\n",
    "    # Calculate number of games won in entire match for loser\n",
    "    df['loser_games'] = df['loser_set_1'] + df['loser_set_2'] + df['loser_set_3'] + df['loser_set_4'] + \\\n",
    "                        df['loser_set_5']\n",
    "\n",
    "    # Total games played in match\n",
    "    df['total_games'] = df['winner_games'] + df['loser_games']\n",
    "\n",
    "    # The difference in games won between the winner and loser of the match\n",
    "    df['game_differential'] = abs(df['winner_games'] - df['loser_games'])\n",
    "\n",
    "    return df"
   ]
  },
  {
   "cell_type": "markdown",
   "metadata": {},
   "source": [
    "<a id=\"3\"></a> <br>\n",
    "## Elo Rating\n",
    "\n",
    "Elo ratings are used to calculate the relative skill levels of players in zero-sum games such as tennis. The Elo rating will change as the athlete plays more games. Players with more matches played will have a more accurate rating. If a players match score exceeds their predicted score, their rating increases, if it falls short of their expected score, their rating decreases."
   ]
  },
  {
   "cell_type": "markdown",
   "metadata": {},
   "source": [
    "<a id=\"4\"></a> <br>\n",
    "### Initial Elo Ratings\n",
    "\n",
    "Elo ratings start at 1500 for each player and will be changed after games are played."
   ]
  },
  {
   "cell_type": "code",
   "execution_count": 2,
   "metadata": {},
   "outputs": [],
   "source": [
    "def initialize_elo(df):\n",
    "    \"\"\"\n",
    "    Initialize Elo ratings as 1500 for all players.\n",
    "\n",
    "        Parameters:\n",
    "            df (pd.DataFrame): Data set.\n",
    "\n",
    "        Returns:\n",
    "            elo_rating (pd.DataFrame): Data set of players Elo ratings.\n",
    "            starting_elo (dict): Dictionary with player id and their Elo rating.\n",
    "    \"\"\"\n",
    "\n",
    "    # Get all unique player ids in data set\n",
    "    unique_player_ids = set(list(df['winner_id'].unique()) + list(df['loser_id'].unique()))\n",
    "\n",
    "    # Initial Elo ratings for each player\n",
    "    elo_dict = {'player_id': list(unique_player_ids), 'rating': [1500] * len(unique_player_ids)}\n",
    "\n",
    "    # Create dictionary with Player ID and their Elo rating\n",
    "    starting_elo = dict(zip(elo_dict['player_id'], elo_dict['rating']))\n",
    "\n",
    "    # Create DataFrame of Elo ratings\n",
    "    elo_rating = pd.DataFrame(elo_dict)\n",
    "\n",
    "    return elo_rating, starting_elo"
   ]
  },
  {
   "cell_type": "markdown",
   "metadata": {},
   "source": [
    "<a id=\"5\"></a> <br>\n",
    "## Game Differential\n",
    "We will now explore introducing a win multiplier to account for how close the match was. We will first start by getting an understanding of the distribution of the game win differential. This will be used to add a multiplier to a match based on the difference in games won."
   ]
  },
  {
   "cell_type": "code",
   "execution_count": 3,
   "metadata": {},
   "outputs": [
    {
     "data": {
      "image/png": "[encoded data removed]",
      "text/plain": [
       "<Figure size 432x288 with 1 Axes>"
      ]
     },
     "metadata": {
      "needs_background": "light"
     },
     "output_type": "display_data"
    }
   ],
   "source": [
    "# Run game_differential function\n",
    "data = game_differential(data)\n",
    "\n",
    "# Initialize plot\n",
    "fig, ax = plt.subplots(figsize=(6, 4))\n",
    "\n",
    "# Plot histogram\n",
    "data['game_differential'].plot(kind='hist', density=True, bins=data['game_differential'].nunique())\n",
    "\n",
    "# Kernel Density Estimation (KDE) computes underlying distribution\n",
    "data['game_differential'].plot(kind='kde')\n",
    "\n",
    "# Set X label\n",
    "ax.set_xlabel('Game Differential')\n",
    "\n",
    "# Set range of X-axis\n",
    "ax.set_xlim(data['game_differential'].min(), data['game_differential'].max())\n",
    "\n",
    "# Change Y label\n",
    "ax.set_ylabel('Frequency')\n",
    "\n",
    "# Set plot title\n",
    "ax.set_title('Game Differential Probabilities')\n",
    "\n",
    "# Display title\n",
    "plt.show()"
   ]
  },
  {
   "cell_type": "markdown",
   "metadata": {},
   "source": [
    "<a id=\"6\"></a> <br>\n",
    "## Win Margin Multiplier\n",
    "\n",
    "The win margin multplier originates from a Nate Silver interview discussing win margin in Elo rating. [1] \n",
    "\n",
    "There are multiple ways to add a win multiplier to a match. Two popular methods include a nearly linear model and a natural logarithm model. Famous statistician Nate Silver uses a natural logarithm function for his NFL Elo ratings, and a nearly linear function for his NBA Elo ratings. We will test both of them below."
   ]
  },
  {
   "cell_type": "markdown",
   "metadata": {},
   "source": [
    "<a id=\"7\"></a> <br>\n",
    "## Natural Logarithm Multiplier\n",
    "\n",
    "Below we will explore a function using a natural logarithm. The denominator of the function has been tuned to analyze the difference it makes in the multiplier."
   ]
  },
  {
   "cell_type": "code",
   "execution_count": 4,
   "metadata": {},
   "outputs": [
    {
     "data": {
      "image/png": "[encoded data removed]",
      "text/plain": [
       "<Figure size 432x288 with 1 Axes>"
      ]
     },
     "metadata": {
      "needs_background": "light"
     },
     "output_type": "display_data"
    },
    {
     "name": "stdout",
     "output_type": "stream",
     "text": [
      "Win Multiplier When x Equals the Mean Game Differential:\n",
      "Denominator = 1: 1.7912467426099739\n",
      "Denominator = 2: 1.2523235046341972\n",
      "Denominator = 3: 0.9804447326960762\n",
      "Denominator = 4: 0.810588427682448\n",
      "Denominator = 5: 0.6928395761368049\n"
     ]
    }
   ],
   "source": [
    "# Average game differential\n",
    "game_diff_mean = data['game_differential'].mean()\n",
    "\n",
    "fig, ax = plt.subplots(figsize=(6, 4))\n",
    "\n",
    "x = np.array(range(data['game_differential'].min(), data['game_differential'].max() + 1))\n",
    "a = np.log((x/1) + 1)\n",
    "b = np.log((x/2) + 1)\n",
    "c = np.log((x/3) + 1)\n",
    "d = np.log((x/4) + 1)\n",
    "e = np.log((x/5) + 1)\n",
    "\n",
    "ax.plot(x, a, 'r', label='1')\n",
    "ax.plot(x, b, 'b', label='2')\n",
    "ax.plot(x, c, 'g', label='3')\n",
    "ax.plot(x, d, 'm', label='4')\n",
    "ax.plot(x, e, 'y', label='5')\n",
    "\n",
    "fig.suptitle('Natural Logarithm Win Multiplier Denominator', fontsize=14)\n",
    "plt.xlabel('Game Differential', fontsize=10)\n",
    "plt.ylabel('Multiplier', fontsize=10)\n",
    "\n",
    "plt.legend(loc='upper left')\n",
    "\n",
    "plt.show()\n",
    "\n",
    "print('Win Multiplier When x Equals the Mean Game Differential:')\n",
    "print(f'Denominator = 1: {np.log((game_diff_mean/1) + 1)}')\n",
    "print(f'Denominator = 2: {np.log((game_diff_mean/2) + 1)}')\n",
    "print(f'Denominator = 3: {np.log((game_diff_mean/3) + 1)}')\n",
    "print(f'Denominator = 4: {np.log((game_diff_mean/4) + 1)}')\n",
    "print(f'Denominator = 5: {np.log((game_diff_mean/5) + 1)}')"
   ]
  },
  {
   "cell_type": "markdown",
   "metadata": {},
   "source": [
    "<a id=\"8\"></a> <br>\n",
    "#### Optimal Denominator\n",
    "\n",
    "Prior to cross validation we will get an idea of an acceptable denominator value by solving the function for the denominator when the numerator is equal to the mean of the game differential and the equation is equal to 1."
   ]
  },
  {
   "cell_type": "code",
   "execution_count": 5,
   "metadata": {},
   "outputs": [
    {
     "name": "stdout",
     "output_type": "stream",
     "text": [
      "Optimal Denominator Value of Natural Logarithm Win Multiplier: 2.908093623561006\n"
     ]
    }
   ],
   "source": [
    "\"\"\"\n",
    "Solve for x, ln((game_diff_mean/x) + 1) = 1:\n",
    "\n",
    "1. Take exponential of both sides\n",
    "   (game_diff_mean/x) + 1 = e^1\n",
    "\n",
    "2. Multiply both sides by x\n",
    "   game_diff_mean + x = e^1 * x\n",
    "\n",
    "3. Get x on its own\n",
    "   x = game_diff_mean / e^1 - 1\n",
    "\"\"\"\n",
    "\n",
    "# Optimal ln denominator\n",
    "ln_optimal_denominator = game_diff_mean / (math.exp(1) - 1)\n",
    "\n",
    "print(f'Optimal Denominator Value of Natural Logarithm Win Multiplier: {ln_optimal_denominator}')"
   ]
  },
  {
   "cell_type": "markdown",
   "metadata": {},
   "source": [
    "When the denominator of the natural logarithm equation equals the above optimal denominator, the win multiplier equals 1, given that the numerator in the equation is the mean of the game differential (4.9969)."
   ]
  },
  {
   "cell_type": "markdown",
   "metadata": {},
   "source": [
    "<a id=\"9\"></a> <br>\n",
    "## Nearly Linear Multiplier\n",
    "\n",
    "A second possible win multiplier uses a nearly linear function. When comparing the\n",
    "linear function to the natural logarithm function, the variation in the multipliers\n",
    "is significantly larger."
   ]
  },
  {
   "cell_type": "code",
   "execution_count": 6,
   "metadata": {},
   "outputs": [
    {
     "data": {
      "image/png": "[encoded data removed]",
      "text/plain": [
       "<Figure size 432x288 with 1 Axes>"
      ]
     },
     "metadata": {
      "needs_background": "light"
     },
     "output_type": "display_data"
    },
    {
     "name": "stdout",
     "output_type": "stream",
     "text": [
      "Win Multiplier When x Equals the Mean Game Differential:\n",
      "Denominator = 1: 2.2353801530886184\n",
      "Denominator = 2: 1.1176900765443092\n",
      "Denominator = 3: 0.7451267176962061\n",
      "Denominator = 4: 0.5588450382721546\n",
      "Denominator = 5: 0.44707603061772366\n"
     ]
    }
   ],
   "source": [
    "fig, ax = plt.subplots(figsize=(6, 4))\n",
    "\n",
    "x = np.array(range(data['game_differential'].min(), data['game_differential'].max() + 1))\n",
    "a = ((x ** 0.5) / 1)\n",
    "b = ((x ** 0.5) / 2)\n",
    "c = ((x ** 0.5) / 3)\n",
    "d = ((x ** 0.5) / 4)\n",
    "e = ((x ** 0.5) / 5)\n",
    "\n",
    "ax.plot(x, a, 'r', label='1')\n",
    "ax.plot(x, b, 'b', label='2')\n",
    "ax.plot(x, c, 'g', label='3')\n",
    "ax.plot(x, d, 'm', label='4')\n",
    "ax.plot(x, e, 'y', label='5')\n",
    "\n",
    "fig.suptitle('Linear Win Multiplier Denominator', fontsize=14)\n",
    "plt.xlabel('Game Differential', fontsize=10)\n",
    "plt.ylabel('Multiplier', fontsize=10)\n",
    "\n",
    "plt.legend(loc='upper left')\n",
    "\n",
    "plt.show()\n",
    "\n",
    "print('Win Multiplier When x Equals the Mean Game Differential:')\n",
    "print(f'Denominator = 1: {((game_diff_mean ** 0.5) / 1)}')\n",
    "print(f'Denominator = 2: {((game_diff_mean ** 0.5) / 2)}')\n",
    "print(f'Denominator = 3: {((game_diff_mean ** 0.5) / 3)}')\n",
    "print(f'Denominator = 4: {((game_diff_mean ** 0.5) / 4)}')\n",
    "print(f'Denominator = 5: {((game_diff_mean ** 0.5) / 5)}')"
   ]
  },
  {
   "cell_type": "markdown",
   "metadata": {},
   "source": [
    "<a id=\"10\"></a> <br>\n",
    "#### Optimal Denominator\n",
    "\n",
    "Similar to above, prior to cross validation we will get an idea of an acceptable denominator value by solving the function for the denominator when the numerator is equal to the mean of the game differential and the equation is equal to 1."
   ]
  },
  {
   "cell_type": "code",
   "execution_count": 7,
   "metadata": {},
   "outputs": [
    {
     "name": "stdout",
     "output_type": "stream",
     "text": [
      "Optimal Denominator Value of Linear Win Multiplier: 2.2353801530886184\n"
     ]
    }
   ],
   "source": [
    "\"\"\"\n",
    "Solve for x, ((game_diff_mean ** 0.5) / x) = 1:\n",
    "\n",
    "1. Multiply both sides by x\n",
    "   game_diff_mean^0.5 = x\n",
    "\n",
    "2. Square root LHS\n",
    "   x = 2.2354 \n",
    "\"\"\"\n",
    "\n",
    "# Optimal linear denominator\n",
    "linear_optimal_denominator = math.sqrt(game_diff_mean)\n",
    "\n",
    "print(f'Optimal Denominator Value of Linear Win Multiplier: {linear_optimal_denominator}')"
   ]
  },
  {
   "cell_type": "markdown",
   "metadata": {},
   "source": [
    "<a id=\"11\"></a> <br>\n",
    "## Functions for Elo Ratings\n",
    "\n",
    "We now introduce functions which will be used to calculate the Elo ratings."
   ]
  },
  {
   "cell_type": "markdown",
   "metadata": {},
   "source": [
    "<a id=\"12\"></a> <br>\n",
    "### Probability of Winning\n",
    "\n",
    "The function below calculates the probability of a player winning given their Elo rating and their opponents."
   ]
  },
  {
   "cell_type": "code",
   "execution_count": 8,
   "metadata": {},
   "outputs": [],
   "source": [
    "def probability(p1, p2):\n",
    "    \"\"\"\n",
    "    Probability of player 1 winning.\n",
    "\n",
    "        Parameters:\n",
    "            p1 (int): Player 1 Elo rating prior to the match.\n",
    "            p2 (int): Player 2 Elo rating prior to the match.\n",
    "\n",
    "        Returns:\n",
    "            prob (float): Probability of player 1 winning.\n",
    "    \"\"\"\n",
    "\n",
    "    # p1 and p2 are Elo ratings for each player before the match\n",
    "    prob = 1 / (1 + (10 ** ((p2 - p1) / 400)))\n",
    "\n",
    "    return prob"
   ]
  },
  {
   "cell_type": "markdown",
   "metadata": {},
   "source": [
    "<a id=\"13\"></a> <br>\n",
    "### Update Elo Ratings\n",
    "\n",
    "Updates the players Elo rating using the specified input parameters. \"Score\" is 1 for win or 0 for loss. \"Expected\" is the probability of the player winning."
   ]
  },
  {
   "cell_type": "code",
   "execution_count": 9,
   "metadata": {},
   "outputs": [],
   "source": [
    "def update_elo(rating, k_factor, score, expected):\n",
    "    \"\"\"\n",
    "    Update Elo rating using new information.\n",
    "\n",
    "        Parameters:\n",
    "            rating (float): Elo rating of the given player.\n",
    "            k_factor (float): K-factor for the given player.\n",
    "            score (int): True score.\n",
    "            expected (float): Expected score.\n",
    "\n",
    "        Returns:\n",
    "            updated_elo (dict): Updated Elo rating.\n",
    "    \"\"\"\n",
    "\n",
    "    updated_elo = rating + k_factor * (score - expected)\n",
    "\n",
    "    return updated_elo"
   ]
  },
  {
   "cell_type": "markdown",
   "metadata": {},
   "source": [
    "<a id=\"14\"></a> <br>\n",
    "### Win Multiplier\n",
    "\n",
    "The second part of the win multiplier equation takes into consideration the Elo \n",
    "rating of each player in the match. It assigns more weight to matches where Elo ratings are \n",
    "close, and assigns less weight to matches where the ratings are not close. Therefore, Elo ratings\n",
    "are affected less when the difference in the players ratings is large."
   ]
  },
  {
   "cell_type": "code",
   "execution_count": 10,
   "metadata": {},
   "outputs": [],
   "source": [
    "def win_margin_multiplier(multiplier_function, point_diff, elo_winner, elo_loser, denominator):\n",
    "    \"\"\"\n",
    "    Win multiplier using either a natural logarithm, linear function or no multiplier.\n",
    "\n",
    "        Parameters:\n",
    "            multiplier_function (str): Type of win multiplier function.\n",
    "            point_diff (int): Difference in the amount of games won by each player.\n",
    "            elo_winner (float): Elo rating of the winner.\n",
    "            elo_loser (float): Elo rating of the loser.\n",
    "            denominator (float): Denominator value of win multiplier.\n",
    "\n",
    "        Returns:\n",
    "            win_mult (float): The value for the win multiplier.\n",
    "    \"\"\"\n",
    "\n",
    "    if multiplier_function == 'ln':\n",
    "\n",
    "        win_mult = np.log((point_diff / denominator) + 1) * (2.2 / ((elo_winner - elo_loser) * 0.001 + 2.2))\n",
    "\n",
    "    elif multiplier_function == 'linear':\n",
    "\n",
    "        win_mult = ((point_diff ** 0.5) / denominator) * (2.2 / ((elo_winner - elo_loser) * 0.001 + 2.2))\n",
    "\n",
    "    return win_mult"
   ]
  },
  {
   "cell_type": "markdown",
   "metadata": {},
   "source": [
    "<a id=\"15\"></a> <br>\n",
    "### K-Factor\n",
    "\n",
    "Next, we will need to get the number of games each player has played in the training data, as well as, in the testing data. These values will be used in the K-Factor calculation within the Elo rating. \n",
    "\n",
    "The K-Factor places a cap on the number of points a player can win or lose from a match. The K-Factor is critical in ensuring an accurate rating. A K-Factor measures how strongly a match will affect a players rating. A small value allows for a smaller change in rating, a large value allows for larger changes.\n",
    "\n",
    "A K-Factor of 32 is a typical value that is often used to reduce complexity. However, changing the value for each player leads to more accurate results because we are able to know the number of matches used to build the Elo ratings, and the number of matches that will be played in the future. Knowing the number of future matches that will be played gives an estimate of the maximum number of points a player can win or lose in the upcoming tournament.\n",
    "\n",
    "First, we will obtain the number of matches played in the training data, and the number of matches that will be played in the testing/evaluation data."
   ]
  },
  {
   "cell_type": "code",
   "execution_count": 11,
   "metadata": {},
   "outputs": [],
   "source": [
    "def games_played(df, evaluation=False):\n",
    "    \"\"\"\n",
    "    Get number of matches each player played in the data set.\n",
    "\n",
    "        Parameters:\n",
    "            df (pd.DataFrame): Data set.\n",
    "            evaluation (Boolean): Whether or not the calculation is for the training data or evaluation data.\n",
    "                The structure of the evaluation data is different than the training data.\n",
    "\n",
    "        Returns:\n",
    "            player_games (Counter): Number of games played for each player.\n",
    "    \"\"\"\n",
    "\n",
    "    if not evaluation:\n",
    "\n",
    "        # Series of the player 1 and player 2 ids for each game\n",
    "        ids = pd.concat([df['winner_id'], df['loser_id']])\n",
    "\n",
    "    elif evaluation:\n",
    "\n",
    "        # Series of the player 1 and player 2 ids for each game\n",
    "        ids = pd.concat([df['player_1'], df['player_2']])\n",
    "\n",
    "    # Counts the number of games played by each player\n",
    "    player_games = Counter(ids)\n",
    "\n",
    "    return player_games"
   ]
  },
  {
   "cell_type": "markdown",
   "metadata": {},
   "source": [
    "The function below can account for both a game differential (win margin) and no game differential."
   ]
  },
  {
   "cell_type": "code",
   "execution_count": 12,
   "metadata": {},
   "outputs": [],
   "source": [
    "def k_fact_win(player_id, num_games_training, num_games_evaluation, win_mult):\n",
    "    \"\"\"\n",
    "    Calculates the K-Factor for given player.\n",
    "\n",
    "        Parameters:\n",
    "            player_id (int): Id of the player of interest.\n",
    "            num_games_training (Counter): Number of games the player played in the training data.\n",
    "            num_games_evaluation (Counter): Number of upcoming games the player will play in the evaluation data.\n",
    "            win_mult (float): The value for the win multiplier.\n",
    "\n",
    "        Returns:\n",
    "            k_factor (float): K-factor for the given player.\n",
    "    \"\"\"\n",
    "\n",
    "    # Number of games used to get Elo rating\n",
    "    ne = num_games_training[player_id]\n",
    "\n",
    "    # Number of games to be played in evaluation data\n",
    "    m = num_games_evaluation[player_id]\n",
    "\n",
    "    # Accounts for win multiplier\n",
    "    if win_mult == 'None':\n",
    "\n",
    "        # Calculate K-Factor with no win multiplier\n",
    "        k_factor = 800 / (ne + m)\n",
    "\n",
    "    else:\n",
    "\n",
    "        # Calculate K-Factor with win multiplier\n",
    "        k_factor = win_mult * (800 / (ne + m))\n",
    "\n",
    "    return k_factor"
   ]
  },
  {
   "cell_type": "markdown",
   "metadata": {},
   "source": [
    "<a id=\"16\"></a> <br>\n",
    "### Calculate Elo Ratings\n",
    "\n",
    "Uses functions defined above to calculate and update Elo ratings based on the given\n",
    "data."
   ]
  },
  {
   "cell_type": "code",
   "execution_count": 13,
   "metadata": {},
   "outputs": [],
   "source": [
    "def get_elo(df, test_data, win_multiplier='ln', denom=1, production=False):\n",
    "    \"\"\"\n",
    "    Input original Elo ratings and update the ratings using the match data.\n",
    "\n",
    "        Parameters:\n",
    "            df (pd.DataFrame): Data set.\n",
    "            test_data (pd.DataFrame): Testing data set.\n",
    "            win_multiplier (str): Type of win multiplier function.\n",
    "            denom (float): Denominator value of win multiplier.\n",
    "            production (Boolean): Whether or not we are using the evaluation data to make predictions.\n",
    "\n",
    "        Returns:\n",
    "            elo_rating (pd.DataFrame): Data set of players Elo ratings.\n",
    "    \"\"\"\n",
    "\n",
    "    # Initialize Elo ratings\n",
    "    elo_rating, starting_elo = initialize_elo(df)\n",
    "\n",
    "    # Winner id and loser id zipped together\n",
    "    match_list = list(zip(df['winner_id'], df['loser_id']))\n",
    "\n",
    "    # Create copy of DataFrame\n",
    "    updated_elo = starting_elo.copy()\n",
    "\n",
    "    # For each match\n",
    "    for match in enumerate(match_list):\n",
    "\n",
    "        # Player 1 id\n",
    "        p1 = match[1][0]\n",
    "\n",
    "        # Player 2 id\n",
    "        p2 = match[1][1]\n",
    "\n",
    "        # Get number of games played in training data set\n",
    "        num_games_training = games_played(df)\n",
    "\n",
    "        # If we are putting model into production for predictions set production = True\n",
    "        if production:\n",
    "\n",
    "            # Column names and structure is different for the evaluation data\n",
    "            num_games_testing = games_played(test_data, evaluation=True)\n",
    "\n",
    "        else:\n",
    "\n",
    "            num_games_testing = games_played(test_data)\n",
    "\n",
    "        if win_multiplier == 'None':\n",
    "\n",
    "            # Get K-Factor for each player, does not account for win margin\n",
    "            p1_k = k_fact_win(p1, num_games_training, num_games_testing, win_multiplier)\n",
    "            p2_k = k_fact_win(p2, num_games_training, num_games_testing, win_multiplier)\n",
    "\n",
    "        else:\n",
    "\n",
    "            # Get win multiplier\n",
    "            win_mult = win_margin_multiplier(win_multiplier, df.loc[match[0]]['game_differential'], updated_elo[p1],\n",
    "                                             updated_elo[p2], denom)\n",
    "\n",
    "            # Get K-Factor for each player, accounts for win margin\n",
    "            p1_k = k_fact_win(p1, num_games_training, num_games_testing, win_mult)\n",
    "            p2_k = k_fact_win(p2, num_games_training, num_games_testing, win_mult)\n",
    "\n",
    "        # Probability of winning for given player before match\n",
    "        expected_p1 = probability(updated_elo[p1], updated_elo[p2])\n",
    "        expected_p2 = probability(updated_elo[p2], updated_elo[p1])\n",
    "\n",
    "        # Get new Elo ratings based on match results\n",
    "        new_p1 = update_elo(updated_elo[p1], p1_k, 1, expected_p1)\n",
    "        new_p2 = update_elo(updated_elo[p2], p2_k, 0, expected_p2)\n",
    "\n",
    "        # Update information for each matches\n",
    "        updated_elo[p1] = new_p1\n",
    "        updated_elo[p2] = new_p2\n",
    "\n",
    "    # Current Elo ratings\n",
    "    elo_rating['current_elo'] = updated_elo.values()\n",
    "\n",
    "    # Set index as player_id\n",
    "    elo_rating.set_index('player_id', inplace=True)\n",
    "\n",
    "    # Delete Rating column as it is initial Elo rating for everyone which is 1500\n",
    "    del elo_rating['rating']\n",
    "\n",
    "    return elo_rating"
   ]
  },
  {
   "cell_type": "markdown",
   "metadata": {},
   "source": [
    "<a id=\"17\"></a> <br>\n",
    "## Evaluate Prediction Accuracy\n",
    "\n",
    "Function to evaluate prediction accuracy."
   ]
  },
  {
   "cell_type": "code",
   "execution_count": 14,
   "metadata": {},
   "outputs": [],
   "source": [
    "def evaluate_predictions(df, elo_rating):\n",
    "    \"\"\"\n",
    "    Evaluate prediction accuracy.\n",
    "\n",
    "        Parameters:\n",
    "            df (pd.DataFrame): Data set.\n",
    "            elo_rating (pd.DataFrame): Data set of players Elo ratings.\n",
    "\n",
    "        Returns:\n",
    "            accuracy (float): Prediction accuracy.\n",
    "    \"\"\"\n",
    "\n",
    "    # Matches in training data\n",
    "    match_list = list(zip(df['winner_id'], df['loser_id']))\n",
    "\n",
    "    # Empty list to append predictions to\n",
    "    prediction = []\n",
    "\n",
    "    # For each match in data\n",
    "    for match in match_list:\n",
    "\n",
    "        # Player 1 id\n",
    "        p1 = match[0]\n",
    "\n",
    "        # Player 2 id\n",
    "        p2 = match[1]\n",
    "\n",
    "        # Player 1 win probability\n",
    "        expected_p1 = probability(elo_rating.loc[p1]['current_elo'], elo_rating.loc[p2]['current_elo'])\n",
    "\n",
    "        # Append prediction to list\n",
    "        prediction.append(expected_p1)\n",
    "\n",
    "    # Round each element in list to nearest whole number (0 or 1)\n",
    "    rounded_predictions = [round(elem) for elem in prediction]\n",
    "\n",
    "    # Calculate accuracy\n",
    "    accuracy = sum(rounded_predictions) / len(rounded_predictions)\n",
    "\n",
    "    return accuracy"
   ]
  },
  {
   "cell_type": "markdown",
   "metadata": {},
   "source": [
    "<a id=\"18\"></a> <br>\n",
    "## Cross-Validation\n",
    "\n",
    "Cross validation is used to find the optimal win multiplier function and it's corresponding denominator.\n",
    "\n",
    "We need to perform cross validation carefully as we can not expose data from the testing\n",
    "data in the training data. The ratings of the player needs to be calculated based\n",
    "only on the given training data set. You can not use the results of the matches \n",
    "in the testing data. Therefore, we need to create the folds and calculate these \n",
    "stats for each fold. With Elo rating there is no need for inputs (x) and a target \n",
    "variable (y) like there is in typical cross validation. Therefore, we can just \n",
    "split the data into training and testing."
   ]
  },
  {
   "cell_type": "code",
   "execution_count": 15,
   "metadata": {},
   "outputs": [],
   "source": [
    "def get_folds(df, n_folds=5, random_state=42):\n",
    "    \"\"\"\n",
    "    Splits data into multiple folds.\n",
    "\n",
    "        Parameters:\n",
    "            df (pd.DataFrame): Data set.\n",
    "            n_folds (int): Number of folds to split original data set into.\n",
    "            random_state (int): Used to reproduce results\n",
    "\n",
    "        Returns:\n",
    "            train_data (pd.DataFrame): Training data.\n",
    "            test_data (pd.DataFrame): Testing data.\n",
    "    \"\"\"\n",
    "\n",
    "    # Empty list to append data sets to\n",
    "    train_data = []\n",
    "    test_data = []\n",
    "\n",
    "    # For each fold\n",
    "    for fold in range(n_folds):\n",
    "\n",
    "        # Get training and testing data sets\n",
    "        train, test = train_test_split(df, test_size=0.3, random_state=random_state)\n",
    "\n",
    "        # Reset index\n",
    "        train.reset_index(inplace=True, drop=True)\n",
    "        test.reset_index(inplace=True, drop=True)\n",
    "\n",
    "        # Append to list\n",
    "        train_data.append(train)\n",
    "        test_data.append(test)\n",
    "\n",
    "    return train_data, test_data"
   ]
  },
  {
   "cell_type": "markdown",
   "metadata": {},
   "source": [
    "<a id=\"19\"></a> <br>\n",
    "## Fill in Missing Ratings\n",
    "\n",
    "Some players in the testing data set may not have any observations in training based on the way the data was split.\n",
    "Therefore, we need to input their rating as 1500 if they do not have a rating already."
   ]
  },
  {
   "cell_type": "code",
   "execution_count": 16,
   "metadata": {},
   "outputs": [],
   "source": [
    "# Get all unique player ids in entire training data set\n",
    "unique_ids = set(list(data['winner_id'].unique()) + list(data['loser_id'].unique()))\n",
    "\n",
    "\n",
    "def fill_missing_elo(unique_player_ids, elo_rating):\n",
    "    \"\"\"\n",
    "    Fill in data for players with missing ratings in the testing data.\n",
    "\n",
    "        Parameters:\n",
    "            unique_player_ids (set): Unique player ids in the data.\n",
    "            elo_rating (pd.DataFrame): Data set of players Elo ratings.\n",
    "\n",
    "        Returns:\n",
    "            elo (pd.DataFrame): Data set of players Elo ratings.\n",
    "    \"\"\"\n",
    "\n",
    "    # Players with updated Elo ratings\n",
    "    player_id_elo = set(elo_rating.index.values)\n",
    "\n",
    "    # Players without updated Elo ratings\n",
    "    no_elo = [item for item in unique_player_ids if item not in player_id_elo]\n",
    "\n",
    "    # Dictionary of players without Elo rating and the initial Elo rating of 1500\n",
    "    no_elo_dict = {'player_id': no_elo, 'current_elo': [1500] * len(no_elo)}\n",
    "\n",
    "    # Create DataFrame of Elo rating with all 1500\n",
    "    no_elo_df = pd.DataFrame(no_elo_dict)\n",
    "\n",
    "    # Set index to player id\n",
    "    no_elo_df.set_index('player_id', inplace=True)\n",
    "\n",
    "    # Append the initial Elo ratings for players without an updated Elo rating\n",
    "    elo = elo_rating.append(no_elo_df)\n",
    "\n",
    "    return elo"
   ]
  },
  {
   "cell_type": "markdown",
   "metadata": {},
   "source": [
    "<a id=\"20\"></a> <br>\n",
    "## Tune Win Multiplier\n",
    "\n",
    "This function is used to find the optimal type of win multiplier (Natural Logarithm,\n",
    "Linear, or None) and their corresponding optimal win margin multiplier denominators."
   ]
  },
  {
   "cell_type": "code",
   "execution_count": 17,
   "metadata": {},
   "outputs": [],
   "source": [
    "def tune_parameters(train_data, test_data, win_multiplier, denominator):\n",
    "    \"\"\"\n",
    "    Find the optimal type of win multiplier and corresponding optimal win margin multiplier denominators.\n",
    "\n",
    "        Parameters:\n",
    "            train_data (pd.DataFrame): Training data.\n",
    "            test_data (pd.DataFrame): Testing data.\n",
    "            win_multiplier (str): Type of win multiplier function.\n",
    "            denominator (array): Array of denominator values to test.\n",
    "\n",
    "        Returns:\n",
    "            average_accuracy (float): Average prediction accuracy.\n",
    "    \"\"\"\n",
    "\n",
    "    # Get all unique player ids in data set\n",
    "    unique_player_ids = set(list(data['winner_id'].unique()) + list(data['loser_id'].unique()))\n",
    "\n",
    "    if win_multiplier == 'None':\n",
    "\n",
    "        # Empty list to append values to\n",
    "        accuracy_cv = []\n",
    "\n",
    "        # For each training data set\n",
    "        for j in range(len(train_data)):\n",
    "\n",
    "            # Get Elo ratings\n",
    "            elo_rating = get_elo(train_data[j], test_data[j], win_multiplier)\n",
    "\n",
    "            # Fill in Elo rating for missing players\n",
    "            elo = fill_missing_elo(unique_player_ids, elo_rating)\n",
    "\n",
    "            # Evaluate prediction accuracy\n",
    "            accuracy_cv.append(evaluate_predictions(test_data[j], elo))\n",
    "\n",
    "        # Append mean accuracy to list\n",
    "        average_accuracy = np.mean(accuracy_cv)\n",
    "\n",
    "    elif win_multiplier == 'ln' or win_multiplier == 'linear':\n",
    "\n",
    "        # Empty list to append values to\n",
    "        denom_accuracy = []\n",
    "\n",
    "        # For each possible denominator value\n",
    "        for denom in denominator:\n",
    "\n",
    "            # Empty list to append value to\n",
    "            accuracy_cv = []\n",
    "\n",
    "            # For each training data set\n",
    "            for j in range(len(train_data)):\n",
    "\n",
    "                # Get Elo ratings\n",
    "                elo_rating = get_elo(train_data[j], test_data[j], win_multiplier, denom)\n",
    "\n",
    "                # Fill in Elo rating for missing players\n",
    "                elo = fill_missing_elo(unique_player_ids, elo_rating)\n",
    "\n",
    "                # Evaluate prediction accuracy\n",
    "                accuracy_cv.append(evaluate_predictions(test_data[j], elo))\n",
    "\n",
    "            # Append mean accuracy to list\n",
    "            denom_accuracy.append(np.mean(accuracy_cv))\n",
    "\n",
    "        # Create dictionary with denominator value and the corresponding accuracy\n",
    "        accuracy_dictionary = dict(zip(denominator, denom_accuracy))\n",
    "\n",
    "        # Create Series from dictionary\n",
    "        average_accuracy = pd.Series(accuracy_dictionary)\n",
    "\n",
    "    return average_accuracy"
   ]
  },
  {
   "cell_type": "markdown",
   "metadata": {},
   "source": [
    "<a id=\"21\"></a> <br>\n",
    "## Set Optimal Win Multiplier\n",
    "\n",
    "Use functions to get Elo ratings and find best win multiplier and its optimal denominator value."
   ]
  },
  {
   "cell_type": "code",
   "execution_count": 18,
   "metadata": {},
   "outputs": [
    {
     "name": "stdout",
     "output_type": "stream",
     "text": [
      "Natural Logarithm Multiplier Accuracy:\n",
      " 0.50    0.544656\n",
      "0.75    0.541728\n",
      "1.00    0.540996\n",
      "1.25    0.538799\n",
      "1.50    0.538799\n",
      "1.75    0.537335\n",
      "2.00    0.538799\n",
      "2.25    0.539531\n",
      "2.50    0.539531\n",
      "2.75    0.539531\n",
      "3.00    0.538067\n",
      "3.25    0.542460\n",
      "3.50    0.545388\n",
      "3.75    0.544656\n",
      "4.00    0.545388\n",
      "4.25    0.544656\n",
      "dtype: float64\n",
      "\n",
      "Linear Multiplier Accuracy:\n",
      " 0.50    0.543924\n",
      "0.75    0.543192\n",
      "1.00    0.537335\n",
      "1.25    0.538799\n",
      "1.50    0.538067\n",
      "1.75    0.538067\n",
      "2.00    0.536603\n",
      "2.25    0.540996\n",
      "2.50    0.544656\n",
      "2.75    0.543924\n",
      "3.00    0.541728\n",
      "3.25    0.539531\n",
      "3.50    0.540996\n",
      "3.75    0.540264\n",
      "4.00    0.539531\n",
      "4.25    0.539531\n",
      "dtype: float64\n",
      "\n",
      "No Win Multiplier Accuracy:\n",
      " 0.5431918008784773\n",
      "\n",
      "\n",
      "Optimal Win Multiplier: ln\n",
      "\n",
      "Optimal Win Multiplier Denominator: 3.5\n"
     ]
    }
   ],
   "source": [
    "# Obtain training and testing data folds\n",
    "training_data, testing_data = get_folds(data, n_folds=5, random_state=42)\n",
    "\n",
    "# Run each type of win_multiplier with an array of denominator values\n",
    "ln_multiplier_accuracy = tune_parameters(training_data, testing_data, win_multiplier='ln',\n",
    "                                         denominator=np.arange(0.5, 4.5, 0.25))\n",
    "linear_multiplier_accuracy = tune_parameters(training_data, testing_data, win_multiplier='linear',\n",
    "                                             denominator=np.arange(0.5, 4.5, 0.25))\n",
    "no_multiplier_accuracy = tune_parameters(training_data, testing_data, win_multiplier='None', denominator=1)\n",
    "\n",
    "# Print results for each denominator\n",
    "print(f'Natural Logarithm Multiplier Accuracy:\\n {ln_multiplier_accuracy}\\n')\n",
    "print(f'Linear Multiplier Accuracy:\\n {linear_multiplier_accuracy}\\n')\n",
    "print(f'No Win Multiplier Accuracy:\\n {no_multiplier_accuracy}\\n')\n",
    "\n",
    "# Save optimal denominator value for each win multiplier\n",
    "ln_max_denom = ln_multiplier_accuracy.idxmax()\n",
    "linear_max_denom = linear_multiplier_accuracy.idxmax()\n",
    "\n",
    "# Add the maximum accuracy values to a list for each multiplier\n",
    "max_accuracy_values = [ln_multiplier_accuracy.max(), linear_multiplier_accuracy.max(), no_multiplier_accuracy.max()]\n",
    "\n",
    "# Get the index of the maximum accuracy value\n",
    "best_win_multiplier = max_accuracy_values.index(max(max_accuracy_values))\n",
    "\n",
    "# Save production_win_multiplier and production_denominator based on the optimal model and its denominator\n",
    "if best_win_multiplier == 0:\n",
    "    production_win_multiplier = 'ln'\n",
    "    production_denominator = ln_max_denom\n",
    "\n",
    "elif best_win_multiplier == 1:\n",
    "    production_win_multiplier = 'linear'\n",
    "    production_denominator = linear_max_denom\n",
    "\n",
    "elif best_win_multiplier == 2:\n",
    "    production_win_multiplier = 'None'\n",
    "    production_denominator = 'None'\n",
    "\n",
    "print(f'\\nOptimal Win Multiplier: {production_win_multiplier}\\n')\n",
    "print(f'Optimal Win Multiplier Denominator: {production_denominator}')"
   ]
  },
  {
   "cell_type": "markdown",
   "metadata": {},
   "source": [
    "<a id=\"22\"></a> <br>\n",
    "## Make Predictions\n",
    "\n",
    "Predict win probabilities for evaluation data."
   ]
  },
  {
   "cell_type": "code",
   "execution_count": 19,
   "metadata": {},
   "outputs": [],
   "source": [
    "# Get Elo rating using training data, use production = True\n",
    "elo_ratings = get_elo(data, evaluation_data, production_win_multiplier, production_denominator, production=True)\n",
    "\n",
    "\n",
    "def predict_evaluation_data(eval_data, elo_rating):\n",
    "    \"\"\"\n",
    "    Make predictions using evaluation data.\n",
    "\n",
    "        Parameters:\n",
    "            eval_data (pd.DataFrame): Data that is used to evaluate the model.\n",
    "            elo_rating (pd.DataFrame): Elo ratings of the players based on the training data.\n",
    "\n",
    "        Returns:\n",
    "            evaluation_data (pd.DataFrame): Data that is used to evaluate the model with the player_1_win_probability\n",
    "                column updated.\n",
    "    \"\"\"\n",
    "\n",
    "    # Matches in evaluation data\n",
    "    match_list = list(zip(eval_data['player_1'], eval_data['player_2']))\n",
    "\n",
    "    # Empty list to append predictions to\n",
    "    prediction = []\n",
    "\n",
    "    # For each match in evaluation data\n",
    "    for match in match_list:\n",
    "\n",
    "        # Player 1 id\n",
    "        p1 = match[0]\n",
    "\n",
    "        # Player 2 id\n",
    "        p2 = match[1]\n",
    "\n",
    "        # Expected score for win and lose players before matches\n",
    "        expected_p1 = probability(elo_rating.loc[p1]['current_elo'], elo_rating.loc[p2]['current_elo'])\n",
    "\n",
    "        # Append prediction to list\n",
    "        prediction.append(expected_p1)\n",
    "\n",
    "    # Fill column with player1 win probabilities\n",
    "    eval_data['player_1_win_probability'] = prediction\n",
    "\n",
    "    return eval_data\n",
    "\n",
    "\n",
    "# Make predictions\n",
    "evaluation_data = predict_evaluation_data(evaluation_data, elo_ratings)\n",
    "\n",
    "# Save as csv file\n",
    "evaluation_data.to_csv(f'{data_path}predictions.csv', index=False)"
   ]
  },
  {
   "cell_type": "markdown",
   "metadata": {},
   "source": [
    "<a id=\"23\"></a> <br>\n",
    "## Future Applications"
   ]
  },
  {
   "cell_type": "markdown",
   "metadata": {},
   "source": [
    "<a id=\"24\"></a> <br>\n",
    "### Time Series Approach\n",
    "Given the data was randomly split from 2019, there were matches that occurred in the training data that occurred after matches in the testing data. Therefore, there was not much of an opportunity to use a time series approach to the problem. In the real world, where we only have data up to the current date and we are trying to predict a match in the future it may be worth while to explore assigning more weight to recent observations.\n",
    "\n",
    "We could explore using exponential decaying K-Factor value. It makes sense in the beginning to have a high K-Factor to adjust to a true rating faster. However, as you obtain more observations, you may not want the ratings to sway as largely as in the beginning of the season."
   ]
  },
  {
   "cell_type": "markdown",
   "metadata": {},
   "source": [
    "<a id=\"25\"></a> <br>\n",
    "### Percentage of Games Won\n",
    "The method currently uses the number of games won by each player. A second approach that could be used includes using the percentage of games won by each player instead. Using the number of games won differential rather than the percentage of games won, allows for differences due to the number of sets played."
   ]
  },
  {
   "cell_type": "markdown",
   "metadata": {},
   "source": [
    "<a id=\"26\"></a> <br>\n",
    "### TrueSkill Ranking\n",
    "\n",
    "Microsoft has created a skill-based match ranking system which they use for many Xbox games called TrueSkill. It is essentially a probabalistic algorithm based on the Elo rating algorithm. TrueSkill 2 is a new improvement of the original and has significantly increased the accuracy. In the future I would like to explore how a TrueSkill Ranking model would perform compared to the existing Elo rating model."
   ]
  },
  {
   "cell_type": "markdown",
   "metadata": {},
   "source": [
    "<a id=\"27\"></a> <br>\n",
    "### Glicko Rating\n",
    "\n",
    "Glicko is a rating system that accounts for uncertainty. The ratings are given by a range, (Ex. 1400-1500) rather than a number like in Elo ratings (Ex. 1450). Uncertainty can also be increased in the model when a player has not played for some time (Ex. after 5 months). "
   ]
  },
  {
   "cell_type": "markdown",
   "metadata": {},
   "source": [
    "<a id=\"28\"></a> <br>\n",
    "## References\n",
    "1. https://fivethirtyeight.com/features/introducing-nfl-elo-ratings/."
   ]
  }
 ],
 "metadata": {
  "kernelspec": {
   "display_name": "Python 3",
   "language": "python",
   "name": "python3"
  },
  "language_info": {
   "codemirror_mode": {
    "name": "ipython",
    "version": 3
   },
   "file_extension": ".py",
   "mimetype": "text/x-python",
   "name": "python",
   "nbconvert_exporter": "python",
   "pygments_lexer": "ipython3",
   "version": "3.7.10"
  }
 },
 "nbformat": 4,
 "nbformat_minor": 4
}
